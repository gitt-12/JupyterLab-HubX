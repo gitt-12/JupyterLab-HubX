{
 "cells": [
  {
   "cell_type": "markdown",
   "id": "4ca50ae2-8859-4fae-92c1-aa3aed259fe8",
   "metadata": {},
   "source": [
    "- Q1. Which keyword is used to create a function? Create a function to return a list of odd numbers in the range of 1 to 25."
   ]
  },
  {
   "cell_type": "markdown",
   "id": "08fa3832-8088-4f63-82fc-525385ad0cc7",
   "metadata": {},
   "source": [
    "##### -> 'def' is used to create a function."
   ]
  },
  {
   "cell_type": "code",
   "execution_count": 1,
   "id": "8b9d501e-efc0-4b1a-8c01-e4f68fd0e5fe",
   "metadata": {},
   "outputs": [],
   "source": [
    "#Method 1\n",
    "\n",
    "a=list(range(1,25))\n",
    "def odd_nums(a):\n",
    "    l=[]\n",
    "    for i in a:\n",
    "        if i%2!=0:\n",
    "            l.append(i)\n",
    "            i=i+1\n",
    "    return l"
   ]
  },
  {
   "cell_type": "code",
   "execution_count": 2,
   "id": "6f91056e-7a73-453a-80dc-5090bb94cea3",
   "metadata": {},
   "outputs": [
    {
     "data": {
      "text/plain": [
       "[1, 3, 5, 7, 9, 11, 13, 15, 17, 19, 21, 23]"
      ]
     },
     "execution_count": 2,
     "metadata": {},
     "output_type": "execute_result"
    }
   ],
   "source": [
    "odd_nums(a)"
   ]
  },
  {
   "cell_type": "code",
   "execution_count": 3,
   "id": "4e122c7e-3dea-45f9-acbc-f2655736347a",
   "metadata": {},
   "outputs": [],
   "source": [
    "#Method 2\n",
    "\n",
    "def odd_nums():\n",
    "    l=[]\n",
    "    for i in range(1,25):\n",
    "        if i%2!=0:\n",
    "            l.append(i)\n",
    "            i=i+1\n",
    "    return l"
   ]
  },
  {
   "cell_type": "code",
   "execution_count": 4,
   "id": "430ab0f2-a78e-47f4-8307-d29b32c6acc5",
   "metadata": {},
   "outputs": [
    {
     "data": {
      "text/plain": [
       "[1, 3, 5, 7, 9, 11, 13, 15, 17, 19, 21, 23]"
      ]
     },
     "execution_count": 4,
     "metadata": {},
     "output_type": "execute_result"
    }
   ],
   "source": [
    "odd_nums()"
   ]
  },
  {
   "cell_type": "markdown",
   "id": "4635751a-6ce4-4450-a53f-48ca1948c756",
   "metadata": {},
   "source": [
    "### \n",
    "\n",
    "\n",
    "\n",
    "\n",
    "\n",
    "\n",
    "- Q2. Why *args and **kwargs is used in some functions? Create a function each for *args and **kwargs to demonstrate their use."
   ]
  },
  {
   "cell_type": "markdown",
   "id": "cea4087f-a4c0-4e00-958e-500d75b25586",
   "metadata": {},
   "source": [
    "##### -> By using *args and **kwargs we allow the user to insert n number of inputs, where n can be any integer. **kwargs is used to insert dictionary type values."
   ]
  },
  {
   "cell_type": "code",
   "execution_count": 5,
   "id": "e218d9c7-4670-495c-834b-908d70f30890",
   "metadata": {},
   "outputs": [],
   "source": [
    "# *args type-\n",
    "\n",
    "def test1(*args):\n",
    "    return args"
   ]
  },
  {
   "cell_type": "code",
   "execution_count": 6,
   "id": "cc79083c-7c6b-40c4-826e-4855d86dfcbb",
   "metadata": {},
   "outputs": [
    {
     "data": {
      "text/plain": [
       "(1, 2, 3, 4, 5, 6)"
      ]
     },
     "execution_count": 6,
     "metadata": {},
     "output_type": "execute_result"
    }
   ],
   "source": [
    "test1(1,2,3,4,5,6)"
   ]
  },
  {
   "cell_type": "code",
   "execution_count": 7,
   "id": "238704f3-ee4b-480f-8563-00011d586cc6",
   "metadata": {},
   "outputs": [
    {
     "data": {
      "text/plain": [
       "(55, 99)"
      ]
     },
     "execution_count": 7,
     "metadata": {},
     "output_type": "execute_result"
    }
   ],
   "source": [
    "test1(55,99)"
   ]
  },
  {
   "cell_type": "code",
   "execution_count": 8,
   "id": "270023bf-dc16-4352-a4e8-ebfb13b77cc2",
   "metadata": {},
   "outputs": [
    {
     "data": {
      "text/plain": [
       "(100, 10000, 5678)"
      ]
     },
     "execution_count": 8,
     "metadata": {},
     "output_type": "execute_result"
    }
   ],
   "source": [
    "test1(100, 10000, 5678)"
   ]
  },
  {
   "cell_type": "code",
   "execution_count": 9,
   "id": "5e74f1a6-9e94-45e3-b31f-b50df0857f44",
   "metadata": {},
   "outputs": [
    {
     "data": {
      "text/plain": [
       "function"
      ]
     },
     "execution_count": 9,
     "metadata": {},
     "output_type": "execute_result"
    }
   ],
   "source": [
    "type(test1)"
   ]
  },
  {
   "cell_type": "code",
   "execution_count": 10,
   "id": "f934695e-9c41-4515-8330-28cb3a927e9c",
   "metadata": {},
   "outputs": [
    {
     "data": {
      "text/plain": [
       "tuple"
      ]
     },
     "execution_count": 10,
     "metadata": {},
     "output_type": "execute_result"
    }
   ],
   "source": [
    "type(test1())"
   ]
  },
  {
   "cell_type": "code",
   "execution_count": 11,
   "id": "c00c8d7a-7b32-4978-a7db-a8210a3c42eb",
   "metadata": {},
   "outputs": [],
   "source": [
    "# **kwargs type-\n",
    "\n",
    "def test2(**kwargs):\n",
    "    return kwargs"
   ]
  },
  {
   "cell_type": "code",
   "execution_count": 12,
   "id": "24edc6b8-db04-4668-8fce-8bd4bf9ef805",
   "metadata": {},
   "outputs": [
    {
     "data": {
      "text/plain": [
       "{'a': 'Physics Wallah', 'b': [3500, 7000, 20000], 'c': 'data science', 'd': 56}"
      ]
     },
     "execution_count": 12,
     "metadata": {},
     "output_type": "execute_result"
    }
   ],
   "source": [
    "test2(a='Physics Wallah', b=[3500, 7000, 20000], c='data science', d=56)"
   ]
  },
  {
   "cell_type": "code",
   "execution_count": 13,
   "id": "96a2f464-de4f-4745-8394-33351132caed",
   "metadata": {},
   "outputs": [
    {
     "data": {
      "text/plain": [
       "{'a': 98, 'b': 75}"
      ]
     },
     "execution_count": 13,
     "metadata": {},
     "output_type": "execute_result"
    }
   ],
   "source": [
    "test2(a=98, b=75)"
   ]
  },
  {
   "cell_type": "code",
   "execution_count": 14,
   "id": "c136e198-fefd-476a-b733-3617b593324e",
   "metadata": {},
   "outputs": [
    {
     "data": {
      "text/plain": [
       "function"
      ]
     },
     "execution_count": 14,
     "metadata": {},
     "output_type": "execute_result"
    }
   ],
   "source": [
    "type(test2)"
   ]
  },
  {
   "cell_type": "markdown",
   "id": "2ab9e801-3b68-4f87-904e-5c03cdd97a26",
   "metadata": {},
   "source": [
    "type(test2())"
   ]
  },
  {
   "cell_type": "markdown",
   "id": "b5afafbe-4163-4d51-8d7f-d665f41b042e",
   "metadata": {},
   "source": [
    "####\n",
    "\n",
    "\n",
    "\n",
    "- Q3. What is an iterator in python? Name the method used to initialise the iterator object and the method used for iteration. Use these methods to print the first five elements of the given list [2, 4, 6, 8, 10, 12, 14,\n",
    "16, 18, 20]."
   ]
  },
  {
   "cell_type": "markdown",
   "id": "73cbbadc-f09e-43b3-81c9-12e665e52a7a",
   "metadata": {},
   "source": [
    "->  Iterator is such an object/data which allows us to move to the next.\n",
    "The iter() method is used to initialise the iterator object and the next() method is used for iteration."
   ]
  },
  {
   "cell_type": "code",
   "execution_count": 15,
   "id": "d6a32b1f-0060-4969-8a41-deda8d2a6d43",
   "metadata": {},
   "outputs": [],
   "source": [
    "l= [2, 4, 6, 8, 10, 12, 14, 16, 18, 20]\n"
   ]
  },
  {
   "cell_type": "code",
   "execution_count": 16,
   "id": "0003b1ce-6f99-4ce6-8045-51901f4e932e",
   "metadata": {},
   "outputs": [],
   "source": [
    "l1=iter(l)"
   ]
  },
  {
   "cell_type": "code",
   "execution_count": 17,
   "id": "b58bf793-bcac-4b1c-96c3-f03c278b1164",
   "metadata": {},
   "outputs": [
    {
     "data": {
      "text/plain": [
       "list_iterator"
      ]
     },
     "execution_count": 17,
     "metadata": {},
     "output_type": "execute_result"
    }
   ],
   "source": [
    "type(l1)"
   ]
  },
  {
   "cell_type": "code",
   "execution_count": 18,
   "id": "2ed141e3-6bcf-4bd4-b1bf-534cf422421d",
   "metadata": {},
   "outputs": [
    {
     "data": {
      "text/plain": [
       "2"
      ]
     },
     "execution_count": 18,
     "metadata": {},
     "output_type": "execute_result"
    }
   ],
   "source": [
    "next(l1)"
   ]
  },
  {
   "cell_type": "code",
   "execution_count": 19,
   "id": "03839d18-49a8-44a3-9904-9c5be8471d2b",
   "metadata": {},
   "outputs": [
    {
     "data": {
      "text/plain": [
       "4"
      ]
     },
     "execution_count": 19,
     "metadata": {},
     "output_type": "execute_result"
    }
   ],
   "source": [
    "next(l1)"
   ]
  },
  {
   "cell_type": "code",
   "execution_count": 20,
   "id": "4c6cc635-d044-424b-ab1b-89974f0d18b6",
   "metadata": {},
   "outputs": [
    {
     "data": {
      "text/plain": [
       "6"
      ]
     },
     "execution_count": 20,
     "metadata": {},
     "output_type": "execute_result"
    }
   ],
   "source": [
    "next(l1)"
   ]
  },
  {
   "cell_type": "code",
   "execution_count": 21,
   "id": "019c994c-4a1f-41ba-b815-4750e030da2c",
   "metadata": {},
   "outputs": [
    {
     "data": {
      "text/plain": [
       "8"
      ]
     },
     "execution_count": 21,
     "metadata": {},
     "output_type": "execute_result"
    }
   ],
   "source": [
    "next(l1)"
   ]
  },
  {
   "cell_type": "code",
   "execution_count": 22,
   "id": "06b981b1-2ead-4caa-aac8-b84bc7889269",
   "metadata": {},
   "outputs": [
    {
     "data": {
      "text/plain": [
       "10"
      ]
     },
     "execution_count": 22,
     "metadata": {},
     "output_type": "execute_result"
    }
   ],
   "source": [
    "next(l1)"
   ]
  },
  {
   "cell_type": "markdown",
   "id": "b5c33d14-70e0-4652-8137-c954fea771fe",
   "metadata": {},
   "source": [
    "- Q4. What is a generator function in python? Why yield keyword is used? Give an example of a generator function."
   ]
  },
  {
   "cell_type": "markdown",
   "id": "5a349b45-8805-49cf-b7b4-e365240b1094",
   "metadata": {},
   "source": [
    "-> Generator function is a function which helps us to generate data through iteration.\n",
    "\n",
    "yield is a special keyword which is used to to generate  a generator function."
   ]
  },
  {
   "cell_type": "code",
   "execution_count": 23,
   "id": "8a710c98-bb8f-4a1e-8a67-b67e7f736451",
   "metadata": {},
   "outputs": [],
   "source": [
    "\n",
    "def test_fib(n):\n",
    "    a, b = 0, 1\n",
    "    for i in range(n):\n",
    "        yield a\n",
    "        a, b = b, a+b"
   ]
  },
  {
   "cell_type": "code",
   "execution_count": 24,
   "id": "b0b465e5-ca56-415b-a640-22f51267121d",
   "metadata": {},
   "outputs": [
    {
     "data": {
      "text/plain": [
       "<generator object test_fib at 0x7f8157299ee0>"
      ]
     },
     "execution_count": 24,
     "metadata": {},
     "output_type": "execute_result"
    }
   ],
   "source": [
    "test_fib(20)"
   ]
  },
  {
   "cell_type": "code",
   "execution_count": 25,
   "id": "554babbc-4fe2-4152-b01f-6e07ed2eb372",
   "metadata": {},
   "outputs": [
    {
     "name": "stdout",
     "output_type": "stream",
     "text": [
      "0\n",
      "1\n",
      "1\n",
      "2\n",
      "3\n",
      "5\n",
      "8\n",
      "13\n",
      "21\n",
      "34\n",
      "55\n",
      "89\n",
      "144\n",
      "233\n",
      "377\n",
      "610\n",
      "987\n",
      "1597\n",
      "2584\n",
      "4181\n"
     ]
    }
   ],
   "source": [
    "for i in test_fib(20):\n",
    "    print(i)"
   ]
  },
  {
   "cell_type": "markdown",
   "id": "6c0063d4-cd2c-4941-8b79-fa89038a49d0",
   "metadata": {},
   "source": [
    "- Q5. Create a generator function for prime numbers less than 1000. Use the next() method to print the first 20 prime numbers."
   ]
  },
  {
   "cell_type": "code",
   "execution_count": 24,
   "id": "0f7edaab-e78f-4be4-b8e5-53496447b6e8",
   "metadata": {},
   "outputs": [
    {
     "name": "stdout",
     "output_type": "stream",
     "text": [
      "2\n",
      "3\n",
      "5\n",
      "7\n",
      "11\n",
      "13\n",
      "17\n",
      "19\n",
      "23\n",
      "29\n",
      "31\n",
      "37\n",
      "41\n",
      "43\n",
      "47\n",
      "53\n",
      "59\n",
      "61\n",
      "67\n",
      "71\n"
     ]
    }
   ],
   "source": [
    "def test_prime():\n",
    "    \"\"\"Create a generator function for prime numbers\"\"\"\n",
    "    yield 2\n",
    "    l = [2]\n",
    "    for i in range(3, 1000):\n",
    "        is_prime = True\n",
    "        for prime in l:\n",
    "            if i % prime == 0:               \n",
    "                is_prime = False\n",
    "                break\n",
    "        if is_prime:\n",
    "            l.append(i)\n",
    "            yield i\n",
    "prime_gen = test_prime()\n",
    "for i in range(20):\n",
    "    print(next(prime_gen))"
   ]
  },
  {
   "cell_type": "markdown",
   "id": "d708ad53-d882-47b3-a0de-38d15b095e4f",
   "metadata": {},
   "source": [
    "- Q6. Write a python program to print the first 10 Fibonacci numbers using a while loop."
   ]
  },
  {
   "cell_type": "code",
   "execution_count": 45,
   "id": "71f8bef1-e6e1-4e12-b836-aac750a7d628",
   "metadata": {},
   "outputs": [],
   "source": [
    "def test_fib1():\n",
    "    a, b= 0, 1\n",
    "    while True:\n",
    "        yield a\n",
    "        a, b= b, a+b\n"
   ]
  },
  {
   "cell_type": "code",
   "execution_count": 46,
   "id": "6758810c-5bb5-4b20-ac6c-a0363afa381e",
   "metadata": {},
   "outputs": [],
   "source": [
    "fib=test_fib1()"
   ]
  },
  {
   "cell_type": "code",
   "execution_count": 47,
   "id": "6366013a-da76-47ef-81b4-3e1901808fef",
   "metadata": {},
   "outputs": [
    {
     "name": "stdout",
     "output_type": "stream",
     "text": [
      "0\n",
      "1\n",
      "1\n",
      "2\n",
      "3\n",
      "5\n",
      "8\n",
      "13\n",
      "21\n",
      "34\n"
     ]
    }
   ],
   "source": [
    "for i in range(10):\n",
    "    print(next(fib))"
   ]
  },
  {
   "cell_type": "markdown",
   "id": "5361e174-8e11-4c49-bc59-d7ac4149669c",
   "metadata": {},
   "source": [
    "- Q7. Write a List Comprehension to iterate through the given string: ‘pwskills’. Expected output: ['p', 'w', 's', 'k', 'i', 'l', 'l', 's']"
   ]
  },
  {
   "cell_type": "code",
   "execution_count": 32,
   "id": "b5215ad8-720c-4b6f-8680-21e685fcb0cc",
   "metadata": {},
   "outputs": [
    {
     "data": {
      "text/plain": [
       "['p', 'w', 's', 'k', 'i', 'l', 'l', 's']"
      ]
     },
     "execution_count": 32,
     "metadata": {},
     "output_type": "execute_result"
    }
   ],
   "source": [
    "\n",
    "[i for i in \"pwskills\"]"
   ]
  },
  {
   "cell_type": "markdown",
   "id": "02c8a658-65fd-442c-9842-0ddd1274dd17",
   "metadata": {},
   "source": [
    "- Q8. Write a python program to check whether a given number is Palindrome or not using a while loop."
   ]
  },
  {
   "cell_type": "code",
   "execution_count": 47,
   "id": "38682e35-cc6a-4ac0-9772-267841f0c752",
   "metadata": {},
   "outputs": [
    {
     "name": "stdin",
     "output_type": "stream",
     "text": [
      "Please enter a number:  2345432\n"
     ]
    },
    {
     "name": "stdout",
     "output_type": "stream",
     "text": [
      "Yes! The number is a Palindrome. (:\n"
     ]
    }
   ],
   "source": [
    "def reverse(n):\n",
    "    r = 0    \n",
    "    while n !=0:\n",
    "        m= n% 10\n",
    "        r= r* 10 + m\n",
    "        n= n//10\n",
    "    return r\n",
    "num = int(input(\"Please enter a number: \"))\n",
    "reverse_num = reverse(num)\n",
    "if num == reverse_num:\n",
    "    print(\"Yes! The number is a Palindrome. (:\")\n",
    "else:\n",
    "    print(\"No! It is not a Palindrome. :/\")        "
   ]
  },
  {
   "cell_type": "markdown",
   "id": "c2eed792-f002-4059-ad52-575081c3897a",
   "metadata": {},
   "source": [
    "- Q9. Write a code to print odd numbers from 1 to 100 using list comprehension."
   ]
  },
  {
   "cell_type": "code",
   "execution_count": 31,
   "id": "708f9411-5ab3-4959-a049-0a312160c633",
   "metadata": {},
   "outputs": [
    {
     "data": {
      "text/plain": [
       "[1,\n",
       " 3,\n",
       " 5,\n",
       " 7,\n",
       " 9,\n",
       " 11,\n",
       " 13,\n",
       " 15,\n",
       " 17,\n",
       " 19,\n",
       " 21,\n",
       " 23,\n",
       " 25,\n",
       " 27,\n",
       " 29,\n",
       " 31,\n",
       " 33,\n",
       " 35,\n",
       " 37,\n",
       " 39,\n",
       " 41,\n",
       " 43,\n",
       " 45,\n",
       " 47,\n",
       " 49,\n",
       " 51,\n",
       " 53,\n",
       " 55,\n",
       " 57,\n",
       " 59,\n",
       " 61,\n",
       " 63,\n",
       " 65,\n",
       " 67,\n",
       " 69,\n",
       " 71,\n",
       " 73,\n",
       " 75,\n",
       " 77,\n",
       " 79,\n",
       " 81,\n",
       " 83,\n",
       " 85,\n",
       " 87,\n",
       " 89,\n",
       " 91,\n",
       " 93,\n",
       " 95,\n",
       " 97,\n",
       " 99]"
      ]
     },
     "execution_count": 31,
     "metadata": {},
     "output_type": "execute_result"
    }
   ],
   "source": [
    "[i for i in range(1, 100) if i % 2 != 0]"
   ]
  },
  {
   "cell_type": "code",
   "execution_count": null,
   "id": "0b1d7653-3cbd-4ea4-ae6a-24919b6db39e",
   "metadata": {},
   "outputs": [],
   "source": []
  }
 ],
 "metadata": {
  "kernelspec": {
   "display_name": "Python 3 (ipykernel)",
   "language": "python",
   "name": "python3"
  },
  "language_info": {
   "codemirror_mode": {
    "name": "ipython",
    "version": 3
   },
   "file_extension": ".py",
   "mimetype": "text/x-python",
   "name": "python",
   "nbconvert_exporter": "python",
   "pygments_lexer": "ipython3",
   "version": "3.10.8"
  }
 },
 "nbformat": 4,
 "nbformat_minor": 5
}
