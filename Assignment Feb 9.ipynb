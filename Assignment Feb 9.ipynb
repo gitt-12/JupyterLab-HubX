{
 "cells": [
  {
   "cell_type": "markdown",
   "id": "9cdeb40e-ebc7-4850-9fb1-146cc287b898",
   "metadata": {},
   "source": [
    "- Q1, Create a vehicle class with an init method having instance variables as name_of_vehicle, max_speed and average_of_vehicle."
   ]
  },
  {
   "cell_type": "code",
   "execution_count": 1,
   "id": "edacdd9d-5837-452a-9112-b332afa46de1",
   "metadata": {},
   "outputs": [],
   "source": [
    "class vehicle:\n",
    "    \n",
    "    def __init__(self, name_of_vehicle, max_speed, average_of_vehicle):\n",
    "        self.name_of_vehicle = name_of_vehicle\n",
    "        self.max_speed = max_speed\n",
    "        self.average_of_vehicle = average_of_vehicle"
   ]
  },
  {
   "cell_type": "code",
   "execution_count": 3,
   "id": "0a52ef02-3524-4ade-8458-f70b29574290",
   "metadata": {},
   "outputs": [],
   "source": [
    "Vehicle1= vehicle(\"BMWX7\", '300KMPH', \"7KMPL\")"
   ]
  },
  {
   "cell_type": "code",
   "execution_count": 5,
   "id": "a8662820-adac-4262-be36-584620aaad04",
   "metadata": {},
   "outputs": [
    {
     "data": {
      "text/plain": [
       "'7KMPL'"
      ]
     },
     "execution_count": 5,
     "metadata": {},
     "output_type": "execute_result"
    }
   ],
   "source": [
    "tata.average_of_vehicle"
   ]
  },
  {
   "cell_type": "code",
   "execution_count": 6,
   "id": "486efa08-4cbb-416a-8b32-cb862247037c",
   "metadata": {},
   "outputs": [
    {
     "data": {
      "text/plain": [
       "'300KMPH'"
      ]
     },
     "execution_count": 6,
     "metadata": {},
     "output_type": "execute_result"
    }
   ],
   "source": [
    "tata.max_speed"
   ]
  },
  {
   "cell_type": "markdown",
   "id": "97e9d6a9-ce23-4805-ab49-73b4e2722d81",
   "metadata": {},
   "source": [
    "- Q2. Create a child class car from the vehicle class created in Que 1, which will inherit the vehicle class. Create a method named seating_capacity which takes capacity as an argument and returns the name of the vehicle and its seating capacity."
   ]
  },
  {
   "cell_type": "code",
   "execution_count": 2,
   "id": "a6822a99-fed6-468a-8c53-fcfc8bd8ef8a",
   "metadata": {},
   "outputs": [],
   "source": [
    "class car(vehicle):\n",
    "    def seating_capacity(self, capacity):\n",
    "        self.capacity = capacity\n",
    "        return self.name_of_vehicle, self.capacity"
   ]
  },
  {
   "cell_type": "code",
   "execution_count": 8,
   "id": "a0c9ea2e-9685-46a5-a90d-79dbd3d4101b",
   "metadata": {},
   "outputs": [],
   "source": [
    "Vehicle2 = car(\"Audi\", \"250KMPH\", \"5KMPL\")"
   ]
  },
  {
   "cell_type": "code",
   "execution_count": 10,
   "id": "3de963e8-1b76-47da-9c94-b441e94a6e17",
   "metadata": {},
   "outputs": [
    {
     "data": {
      "text/plain": [
       "('Audi', 4)"
      ]
     },
     "execution_count": 10,
     "metadata": {},
     "output_type": "execute_result"
    }
   ],
   "source": [
    "Vehicle2.seating_capacity(4)"
   ]
  },
  {
   "cell_type": "markdown",
   "id": "90e85478-4c7f-4344-bb9a-ce7b2f3d7a57",
   "metadata": {},
   "source": [
    "###\n",
    "\n",
    "- Q3. What is multiple inheritance? Write a python code to demonstrate multiple inheritance."
   ]
  },
  {
   "cell_type": "markdown",
   "id": "cfee0e2a-7c0f-4e98-95b8-08a30494cfdd",
   "metadata": {},
   "source": [
    "## ->\n",
    "Multiple inheritance can be defined as a method of accessing the public properties of more than one parent class by a child class."
   ]
  },
  {
   "cell_type": "code",
   "execution_count": 12,
   "id": "b2792b8a-790d-4ac6-ae31-fbea428e1e9d",
   "metadata": {},
   "outputs": [],
   "source": [
    "#Example 3: Multiple inheritance\n",
    "class asg1:\n",
    "    \n",
    "    def meth1(self):\n",
    "        return \"This is first assignment.\""
   ]
  },
  {
   "cell_type": "code",
   "execution_count": 13,
   "id": "133ee37b-f0f7-4c6f-a532-f2e84b6d827c",
   "metadata": {},
   "outputs": [],
   "source": [
    "class asg2:\n",
    "    \n",
    "    def meth2(self):\n",
    "        return \"This is second assignment.\""
   ]
  },
  {
   "cell_type": "code",
   "execution_count": 14,
   "id": "d50c4b03-5b52-4056-9df4-d3ac680decf1",
   "metadata": {},
   "outputs": [],
   "source": [
    "class asg3(asg1,asg2):\n",
    "    pass"
   ]
  },
  {
   "cell_type": "code",
   "execution_count": 15,
   "id": "b4903681-316f-4c54-be44-2272db59a6ca",
   "metadata": {},
   "outputs": [],
   "source": [
    "child_obj_asg = asg3()"
   ]
  },
  {
   "cell_type": "code",
   "execution_count": 16,
   "id": "33877500-64cd-4e01-a735-b505bffe8be5",
   "metadata": {},
   "outputs": [
    {
     "data": {
      "text/plain": [
       "'This is first assignment.'"
      ]
     },
     "execution_count": 16,
     "metadata": {},
     "output_type": "execute_result"
    }
   ],
   "source": [
    "child_obj_asg.meth1()"
   ]
  },
  {
   "cell_type": "code",
   "execution_count": 17,
   "id": "d28751c9-ec74-450a-be3c-6a32b823ef4c",
   "metadata": {},
   "outputs": [
    {
     "data": {
      "text/plain": [
       "'This is second assignment.'"
      ]
     },
     "execution_count": 17,
     "metadata": {},
     "output_type": "execute_result"
    }
   ],
   "source": [
    "child_obj_asg.meth2()"
   ]
  },
  {
   "cell_type": "markdown",
   "id": "2eb81e29-f37a-449c-ba2a-df55d74c9e8f",
   "metadata": {},
   "source": [
    "##\n",
    "- Q4. What are getter and setter in python? Create a class and create a getter and a setter method in this class."
   ]
  },
  {
   "cell_type": "markdown",
   "id": "1e036fba-d5ac-4846-99df-8578e0654e70",
   "metadata": {},
   "source": [
    "## ->\n",
    "\n",
    "- Getter : A method that allows the user to access a attribute in a given class.\n",
    "- Setter : A method that allows the user to set or over-write the value of an attribute in a class"
   ]
  },
  {
   "cell_type": "code",
   "execution_count": 27,
   "id": "9e878134-e27e-44aa-9baa-12958fa7ee74",
   "metadata": {},
   "outputs": [],
   "source": [
    "class bank_balance:\n",
    "    \n",
    "    def __init__(self, City, PIN, House_number, Phone_number=0):\n",
    "        self.City = City\n",
    "        self.PIN = PIN\n",
    "        self.House_number = House_number\n",
    "        self.Phone_number = Phone_number\n",
    "        \n",
    "    def set_Phone_number(self, p):\n",
    "        self.Phone_number=\"NA\" if len(p)!=10 else p\n",
    "    def get_Phone_number(self):\n",
    "        return self.Phone_number"
   ]
  },
  {
   "cell_type": "code",
   "execution_count": 28,
   "id": "1d074f48-ced5-4b72-a7d8-0d8cdf843aa5",
   "metadata": {},
   "outputs": [],
   "source": [
    "Antony = bank_balance(\"New York\", 734562, \"GH956\")"
   ]
  },
  {
   "cell_type": "code",
   "execution_count": 29,
   "id": "26b439c8-19eb-4254-a320-fe389d72c48f",
   "metadata": {},
   "outputs": [
    {
     "data": {
      "text/plain": [
       "0"
      ]
     },
     "execution_count": 29,
     "metadata": {},
     "output_type": "execute_result"
    }
   ],
   "source": [
    "Antony.get_Phone_number()"
   ]
  },
  {
   "cell_type": "code",
   "execution_count": 30,
   "id": "1696684a-58a0-4a14-b287-266ccb3c5907",
   "metadata": {},
   "outputs": [],
   "source": [
    "Antony.set_Phone_number(\"87568\")"
   ]
  },
  {
   "cell_type": "code",
   "execution_count": 31,
   "id": "a395bbee-a523-4de1-92d8-2d2b723ebb29",
   "metadata": {},
   "outputs": [
    {
     "data": {
      "text/plain": [
       "'NA'"
      ]
     },
     "execution_count": 31,
     "metadata": {},
     "output_type": "execute_result"
    }
   ],
   "source": [
    "Antony.get_Phone_number()"
   ]
  },
  {
   "cell_type": "markdown",
   "id": "165aecfd-0549-4cf1-bd33-e9fc4d0c37a5",
   "metadata": {},
   "source": [
    "##\n",
    "- Q5.What is method overriding in python? Write a python code to demonstrate method overriding."
   ]
  },
  {
   "cell_type": "markdown",
   "id": "df687371-3cd4-46c9-b1bc-bd70976a653f",
   "metadata": {},
   "source": [
    "## ->\n",
    "\n",
    "If an object of a parent class is used to invoke a method, then the version of the parent class will be executed, but if an object of the subclass is used to invoke the same method, then the version in the child class will be executed. This method is known as overriding. "
   ]
  },
  {
   "cell_type": "code",
   "execution_count": 60,
   "id": "e5c21faf-280a-4d01-b506-e5f19fff18b9",
   "metadata": {},
   "outputs": [],
   "source": [
    "class assignment1:\n",
    "    def __init__(self, number):\n",
    "        self.number = number\n",
    "        \n",
    "    def asn_number(self):\n",
    "        return \"Parent Assignment\", self.number"
   ]
  },
  {
   "cell_type": "code",
   "execution_count": 61,
   "id": "84c2a246-c39d-429a-ace3-fd6047872e3c",
   "metadata": {},
   "outputs": [],
   "source": [
    "class assignment2(assignment1):\n",
    "    def __init__(self, number):\n",
    "        self.number = number\n",
    "        \n",
    "    def asn_number(self):\n",
    "        return \"Child Assignment\", self.number "
   ]
  },
  {
   "cell_type": "code",
   "execution_count": 62,
   "id": "f0f63d2e-d0dc-42a5-940f-bdb9abb985af",
   "metadata": {},
   "outputs": [],
   "source": [
    "asn1 = assignment1(1)"
   ]
  },
  {
   "cell_type": "code",
   "execution_count": 63,
   "id": "16b4e8a1-67b2-4c2e-a3a8-d8b11ceac523",
   "metadata": {},
   "outputs": [
    {
     "data": {
      "text/plain": [
       "1"
      ]
     },
     "execution_count": 63,
     "metadata": {},
     "output_type": "execute_result"
    }
   ],
   "source": [
    "asn1.number"
   ]
  },
  {
   "cell_type": "code",
   "execution_count": 74,
   "id": "643ea27f-abad-40cb-bd22-caa54f7538de",
   "metadata": {},
   "outputs": [
    {
     "data": {
      "text/plain": [
       "('Parent Assignment', 1)"
      ]
     },
     "execution_count": 74,
     "metadata": {},
     "output_type": "execute_result"
    }
   ],
   "source": [
    "asn1.asn_number()"
   ]
  },
  {
   "cell_type": "code",
   "execution_count": 75,
   "id": "327a7b7c-a6dc-42a7-9725-d43cf0f7001d",
   "metadata": {},
   "outputs": [],
   "source": [
    "asn2 = assignment1(2)"
   ]
  },
  {
   "cell_type": "code",
   "execution_count": 76,
   "id": "7125b8dc-27a9-4e85-8488-44402f803e8d",
   "metadata": {},
   "outputs": [
    {
     "data": {
      "text/plain": [
       "2"
      ]
     },
     "execution_count": 76,
     "metadata": {},
     "output_type": "execute_result"
    }
   ],
   "source": [
    "asn2.number\n"
   ]
  },
  {
   "cell_type": "code",
   "execution_count": null,
   "id": "bede617f-75d6-45a9-8ff7-cd74085cc67f",
   "metadata": {},
   "outputs": [],
   "source": [
    "asn2.asn_number()"
   ]
  },
  {
   "cell_type": "code",
   "execution_count": null,
   "id": "303cc955-0ace-46c3-aa69-6ffa9b33a158",
   "metadata": {},
   "outputs": [],
   "source": []
  }
 ],
 "metadata": {
  "kernelspec": {
   "display_name": "Python 3 (ipykernel)",
   "language": "python",
   "name": "python3"
  },
  "language_info": {
   "codemirror_mode": {
    "name": "ipython",
    "version": 3
   },
   "file_extension": ".py",
   "mimetype": "text/x-python",
   "name": "python",
   "nbconvert_exporter": "python",
   "pygments_lexer": "ipython3",
   "version": "3.10.8"
  }
 },
 "nbformat": 4,
 "nbformat_minor": 5
}
