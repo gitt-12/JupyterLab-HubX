{
 "cells": [
  {
   "cell_type": "markdown",
   "id": "f3b2d2e2-8db3-4ca8-9432-1c535dfb855b",
   "metadata": {},
   "source": [
    "Q2. Create a simple Flask application to display ‘Hello World!!’. Attach the screenshot of the output in\n",
    "Jupyter Notebook."
   ]
  },
  {
   "cell_type": "markdown",
   "id": "935cf843-7d97-4bb0-bd2a-94a83b7a7ac9",
   "metadata": {},
   "source": [
    "## ->\n",
    "\n",
    "from flask import flask\n",
    "\n",
    "\n",
    "app = Flask(__name__)\n",
    "\n",
    "@app.route(\"/Hworld\")\n",
    "def Hworld():\n",
    "    return \"Hello World!!\"\n",
    "\n",
    "if __name__==\"__main__\":\n",
    "    app.run(host=\"0.0.0.0\")"
   ]
  },
  {
   "cell_type": "markdown",
   "id": "80ed86c4-cb8d-4dc6-a701-21251b1ed671",
   "metadata": {},
   "source": [
    "## Hello World!!"
   ]
  },
  {
   "cell_type": "markdown",
   "id": "86868143-d83e-4855-977d-46c720adb508",
   "metadata": {},
   "source": [
    "Q4. Create a “/welcome” route to display the welcome message “Welcome to ABC Corporation” and a “/”\n",
    "route to show the following details:\n",
    "Company Name: ABC Corporation\n",
    "Location: India\n",
    "Contact Detail: 999-999-9999"
   ]
  },
  {
   "cell_type": "markdown",
   "id": "18c44935-9d61-4c82-9b9f-33ba39671d8a",
   "metadata": {},
   "source": [
    "## ->\n",
    "\n",
    "from flask import Flask\n",
    "\n",
    "app = Flask(__name__)\n",
    "\n",
    "@app.route(\"/welcome\")\n",
    "def welcome():\n",
    "    return \"Welcome to ABC Corporation\"\n",
    "\n",
    "@app.route(\"/\")\n",
    "def details():\n",
    "    return '''<h1>Company Name: ABC Corporation</h1>\\n\n",
    "<h1>Location: India</h1>\\n\n",
    "<h1>Contact Detail: 999-999-9999</h1>'''\n",
    "    \n",
    "    \n",
    "if __name__==\"__main__\":\n",
    "    app.run(host=\"0.0.0.0\")"
   ]
  },
  {
   "cell_type": "code",
   "execution_count": null,
   "id": "29e81eeb-55a2-4d10-928c-81c48776d42e",
   "metadata": {},
   "outputs": [],
   "source": []
  }
 ],
 "metadata": {
  "kernelspec": {
   "display_name": "Python 3 (ipykernel)",
   "language": "python",
   "name": "python3"
  },
  "language_info": {
   "codemirror_mode": {
    "name": "ipython",
    "version": 3
   },
   "file_extension": ".py",
   "mimetype": "text/x-python",
   "name": "python",
   "nbconvert_exporter": "python",
   "pygments_lexer": "ipython3",
   "version": "3.10.8"
  }
 },
 "nbformat": 4,
 "nbformat_minor": 5
}
