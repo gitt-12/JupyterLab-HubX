{
 "cells": [
  {
   "cell_type": "markdown",
   "id": "7cdd5b86-abe0-4b9a-a866-458c6261a1f7",
   "metadata": {},
   "source": [
    "- Q1. What is Abstraction in OOps? Explain with an example."
   ]
  },
  {
   "cell_type": "markdown",
   "id": "1af96e92-8bad-4159-97b8-a19cfaef390f",
   "metadata": {},
   "source": [
    "## ->\n",
    "Abstraction is a blueprint of class and objects which can be further used to derive different outputs as required."
   ]
  },
  {
   "cell_type": "code",
   "execution_count": 1,
   "id": "45492885-6ded-4a56-98a0-a34c00b4944b",
   "metadata": {},
   "outputs": [],
   "source": [
    "import abc\n",
    "class school:\n",
    "    \n",
    "    @abc.abstractmethod\n",
    "    def persons_details(self):\n",
    "        pass\n",
    "    \n",
    "    @abc.abstractmethod\n",
    "    def subject(self):\n",
    "        pass"
   ]
  },
  {
   "cell_type": "code",
   "execution_count": 2,
   "id": "37743077-3b1f-4f84-b4c8-b624fb129c99",
   "metadata": {},
   "outputs": [],
   "source": [
    "class student_details(school):\n",
    "    \n",
    "    def persons_details(self):\n",
    "        return \"This will return the details of a student.\"\n",
    "    \n",
    "    def subject(self):\n",
    "        return \"This will return the subject that a student has.\""
   ]
  },
  {
   "cell_type": "code",
   "execution_count": 3,
   "id": "439856de-5631-44f6-8daf-765c259f6031",
   "metadata": {},
   "outputs": [],
   "source": [
    "class teachers_details(school):\n",
    "    \n",
    "    def persons_details(self):\n",
    "        return \"This will return the details of a teacher.\"\n",
    "    \n",
    "    def subject(self):\n",
    "        return \"This will give all the subjects the teacher teaches.\""
   ]
  },
  {
   "cell_type": "code",
   "execution_count": 5,
   "id": "373017c6-187a-452e-94a3-32f93cdfc015",
   "metadata": {},
   "outputs": [
    {
     "data": {
      "text/plain": [
       "'This will give all the subjects the teacher teaches.'"
      ]
     },
     "execution_count": 5,
     "metadata": {},
     "output_type": "execute_result"
    }
   ],
   "source": [
    "td = teachers_details()\n",
    "td.subject()"
   ]
  },
  {
   "cell_type": "code",
   "execution_count": 6,
   "id": "6b3fbd66-c1ca-4ea8-b3bd-fe85d3b5f393",
   "metadata": {},
   "outputs": [
    {
     "data": {
      "text/plain": [
       "'This will return the subject that a student has.'"
      ]
     },
     "execution_count": 6,
     "metadata": {},
     "output_type": "execute_result"
    }
   ],
   "source": [
    "sd = student_details()\n",
    "sd.subject()"
   ]
  },
  {
   "cell_type": "markdown",
   "id": "840aa7f7-328f-475c-b65f-dc23238fc609",
   "metadata": {},
   "source": [
    "- Q2. Differentiate between Abstraction and Encapsulation. Explain with an example."
   ]
  },
  {
   "cell_type": "markdown",
   "id": "cd48923c-6486-40e3-a9b5-f7a8b1ed0e10",
   "metadata": {},
   "source": [
    "## ->\n",
    "- Abstraction is a blueprint of class and objects which can be further used to derive different outputs as required while Encapsulation is the process of hiding sensitive information from the user so that the user can not make any change.\n",
    "\n",
    "- Abstraction can be used to get different result everytime. Encapsulation handles the accessibility of users"
   ]
  },
  {
   "cell_type": "code",
   "execution_count": 7,
   "id": "1bc2b244-74b4-4f2d-b795-27a1f0cd2683",
   "metadata": {},
   "outputs": [],
   "source": [
    "# Abstraction\n",
    "\n",
    "import abc\n",
    "class pwskills:\n",
    "    \n",
    "    @abc.abstractmethod\n",
    "    def students_details(self):\n",
    "        pass\n",
    "    \n",
    "    @abc.abstractmethod\n",
    "    def students_assignment(self):\n",
    "        pass\n",
    "    \n",
    "    @abc.abstractmethod\n",
    "    def students_marks(self):\n",
    "        pass"
   ]
  },
  {
   "cell_type": "code",
   "execution_count": 8,
   "id": "674fa303-1d78-4671-b5a5-25d9b4741444",
   "metadata": {},
   "outputs": [],
   "source": [
    "class student_details(pwskills):\n",
    "    \n",
    "    def students_details(self):\n",
    "        return \"this is a method for taking student details\"\n",
    "    \n",
    "    def students_assignment(self):\n",
    "        return \"this is a method for assignment details for a particular student\""
   ]
  },
  {
   "cell_type": "code",
   "execution_count": 9,
   "id": "7796644f-f7c1-4ba4-a87d-02da81f84b98",
   "metadata": {},
   "outputs": [],
   "source": [
    "class data_science_masters(pwskills):\n",
    "    \n",
    "    def students_details(self):\n",
    "        return \"this will return student details for data science masters.\"\n",
    "    \n",
    "    def students_assignment(self):\n",
    "        return \"this will give you a student assignment details for data science masters\""
   ]
  },
  {
   "cell_type": "code",
   "execution_count": 10,
   "id": "318f02fe-7c97-4d7e-a48e-101c075dc50e",
   "metadata": {},
   "outputs": [
    {
     "data": {
      "text/plain": [
       "'this will return student details for data science masters.'"
      ]
     },
     "execution_count": 10,
     "metadata": {},
     "output_type": "execute_result"
    }
   ],
   "source": [
    "dsm = data_science_masters()\n",
    "dsm.students_details()"
   ]
  },
  {
   "cell_type": "code",
   "execution_count": 11,
   "id": "bc3bd88c-c031-4804-b55a-9efd73f028d9",
   "metadata": {},
   "outputs": [
    {
     "data": {
      "text/plain": [
       "'this is a method for taking student details'"
      ]
     },
     "execution_count": 11,
     "metadata": {},
     "output_type": "execute_result"
    }
   ],
   "source": [
    "sd = student_details()\n",
    "sd.students_details()"
   ]
  },
  {
   "cell_type": "code",
   "execution_count": null,
   "id": "34adc699-44b8-4fa7-bcc5-40998a6cd16c",
   "metadata": {},
   "outputs": [],
   "source": [
    "#Encapsulation\n",
    "\n"
   ]
  }
 ],
 "metadata": {
  "kernelspec": {
   "display_name": "Python 3 (ipykernel)",
   "language": "python",
   "name": "python3"
  },
  "language_info": {
   "codemirror_mode": {
    "name": "ipython",
    "version": 3
   },
   "file_extension": ".py",
   "mimetype": "text/x-python",
   "name": "python",
   "nbconvert_exporter": "python",
   "pygments_lexer": "ipython3",
   "version": "3.10.8"
  }
 },
 "nbformat": 4,
 "nbformat_minor": 5
}
