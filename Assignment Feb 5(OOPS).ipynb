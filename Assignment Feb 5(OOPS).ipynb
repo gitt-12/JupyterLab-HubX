{
 "cells": [
  {
   "cell_type": "markdown",
   "id": "747669cd-6d94-4aa5-ae5c-e38c6f200610",
   "metadata": {},
   "source": [
    "- Q1. Explain Class and Object with respect to Object-Oriented Programming. Give a suitable example."
   ]
  },
  {
   "cell_type": "markdown",
   "id": "2406be05-d80a-47d8-b97d-6ebaac712661",
   "metadata": {},
   "source": [
    "### ->\n",
    "- Class : Class is a blue print which overall defines the things in case of Object-Oriented Programming. It can be described as a classification of real world entity.\n",
    "\n",
    "- Object : Object is real world entity. We also call it variable or instance."
   ]
  },
  {
   "cell_type": "code",
   "execution_count": 1,
   "id": "8abb6977-60a6-4476-82f6-105896ac98ef",
   "metadata": {},
   "outputs": [],
   "source": [
    "x = 1"
   ]
  },
  {
   "cell_type": "code",
   "execution_count": 2,
   "id": "8ccef866-07ca-4c62-aa05-eeefe436885e",
   "metadata": {},
   "outputs": [
    {
     "name": "stdout",
     "output_type": "stream",
     "text": [
      "<class 'int'>\n"
     ]
    }
   ],
   "source": [
    "print(type(x)) #x is an object"
   ]
  },
  {
   "cell_type": "code",
   "execution_count": 1,
   "id": "d5b6b048-06bb-452a-a9e6-7afdf4e92e84",
   "metadata": {},
   "outputs": [
    {
     "name": "stdout",
     "output_type": "stream",
     "text": [
      "<class 'str'>\n"
     ]
    }
   ],
   "source": [
    "print(type(\"a\"))"
   ]
  },
  {
   "cell_type": "code",
   "execution_count": 2,
   "id": "ba354c3f-40c5-4f81-8553-a1fc9f8d6a10",
   "metadata": {},
   "outputs": [
    {
     "name": "stdout",
     "output_type": "stream",
     "text": [
      "<class 'int'>\n"
     ]
    }
   ],
   "source": [
    "print(type(20))"
   ]
  },
  {
   "cell_type": "code",
   "execution_count": 3,
   "id": "9da41ff8-ee56-493c-b4b3-c1d7878c452e",
   "metadata": {},
   "outputs": [
    {
     "name": "stdout",
     "output_type": "stream",
     "text": [
      "<class 'list'>\n"
     ]
    }
   ],
   "source": [
    "print(type([1,2,34,5]))"
   ]
  },
  {
   "cell_type": "markdown",
   "id": "e1dc82ae-4c3e-46dc-ac37-50ecde7a6200",
   "metadata": {},
   "source": [
    "- Q2. Name the four pillars of OOPs."
   ]
  },
  {
   "cell_type": "markdown",
   "id": "3e706153-49ec-437c-935e-3a3bd87e3747",
   "metadata": {},
   "source": [
    "## ->\n",
    "\n",
    "The four pillars of OOPs are-\n",
    "  - Abstraction.\n",
    "  - Encapsulation.\n",
    "  - Inheritance.\n",
    "  - Polymorphism."
   ]
  },
  {
   "cell_type": "markdown",
   "id": "670623e8-37aa-484a-ab27-10235fcdceea",
   "metadata": {},
   "source": [
    "- Q3. Explain why the __init__() function is used. Give a suitable example."
   ]
  },
  {
   "cell_type": "markdown",
   "id": "7b0c7cfd-3480-4cac-b8e0-01e1ab182e48",
   "metadata": {},
   "source": [
    "## ->\n",
    "'__init__' is a constructor. It takes object specific data.  The '__init__' function is called every time an object is created from a class."
   ]
  },
  {
   "cell_type": "code",
   "execution_count": 3,
   "id": "ec051d6a-2014-4f0c-9d15-120cf8d841cb",
   "metadata": {},
   "outputs": [],
   "source": [
    "class assignment :\n",
    "    \n",
    "    def __init__(self, assignment_number, assignment_name):\n",
    "        self.assignment_number = assignment_number\n",
    "        self.assignment_name = assignment_name\n",
    "        \n",
    "    def return_assignment_details(self) :\n",
    "        return self.assignment_number, self.assignment_name"
   ]
  },
  {
   "cell_type": "code",
   "execution_count": 4,
   "id": "032025b2-64db-444e-993d-0e44e39b5d56",
   "metadata": {},
   "outputs": [],
   "source": [
    "git = assignment(1, \"basic\")"
   ]
  },
  {
   "cell_type": "code",
   "execution_count": 8,
   "id": "ae9bf4a4-bce7-4128-afd9-a89107b7b8a7",
   "metadata": {},
   "outputs": [
    {
     "data": {
      "text/plain": [
       "'basic'"
      ]
     },
     "execution_count": 8,
     "metadata": {},
     "output_type": "execute_result"
    }
   ],
   "source": [
    "git.assignment_name"
   ]
  },
  {
   "cell_type": "markdown",
   "id": "f7a6632a-7238-4325-9208-533b536c5045",
   "metadata": {},
   "source": [
    "- Q4. Why self is used in OOPs?"
   ]
  },
  {
   "cell_type": "markdown",
   "id": "d98011a1-b273-423b-a14c-1492d645f8b4",
   "metadata": {},
   "source": [
    "### ->\n",
    "\n",
    "self is used to bind the function/variable inside the class to the class. It is used as reference to the object."
   ]
  },
  {
   "cell_type": "markdown",
   "id": "bff39d73-b196-4cc3-b740-cb4caaff192c",
   "metadata": {},
   "source": [
    "- Q5. What is inheritance? Give an example for each type of inheritance."
   ]
  },
  {
   "cell_type": "markdown",
   "id": "b50c30d5-1642-45de-973b-109bedbebe2c",
   "metadata": {},
   "source": [
    "## -> \n",
    "Inheritance is a method of deriving the public properties of a class by another class. It inherits all the public attributes of the parent class and also has its own attributes and behaviour."
   ]
  },
  {
   "cell_type": "code",
   "execution_count": 1,
   "id": "339341d9-88fc-4daa-9429-74b38cf641b4",
   "metadata": {},
   "outputs": [],
   "source": [
    "# Example 1:\n",
    "class asngmnt1:\n",
    "    \n",
    "    def method1(self):\n",
    "        return \"This is assignment no. 1\""
   ]
  },
  {
   "cell_type": "code",
   "execution_count": 3,
   "id": "21f55783-c7c5-4131-adbb-0073d839215e",
   "metadata": {},
   "outputs": [],
   "source": [
    "class asngmnt2(asngmnt1):\n",
    "    pass"
   ]
  },
  {
   "cell_type": "code",
   "execution_count": 5,
   "id": "543fea2f-c679-44f8-861b-700f8db2c2a0",
   "metadata": {},
   "outputs": [],
   "source": [
    "child_asgn_obj = asngmnt2()"
   ]
  },
  {
   "cell_type": "code",
   "execution_count": 7,
   "id": "5ede2d02-db53-4f53-81cd-f1912bb71b4e",
   "metadata": {},
   "outputs": [
    {
     "data": {
      "text/plain": [
       "'This is assignment no. 1'"
      ]
     },
     "execution_count": 7,
     "metadata": {},
     "output_type": "execute_result"
    }
   ],
   "source": [
    "child_asgn_obj.method1()"
   ]
  },
  {
   "cell_type": "code",
   "execution_count": 8,
   "id": "86f78588-feab-48ad-b67a-4bd57b562bf0",
   "metadata": {},
   "outputs": [],
   "source": [
    "# Example 2: Multi level inheritance\n",
    "class asg1:\n",
    "    \n",
    "    def meth1(self):\n",
    "        return \"This is first assignment.\""
   ]
  },
  {
   "cell_type": "code",
   "execution_count": 9,
   "id": "3031760d-f9c6-412f-90f1-8cb2645ed47a",
   "metadata": {},
   "outputs": [],
   "source": [
    "class asg2(asg1):\n",
    "    \n",
    "    def meth2(self):\n",
    "        return \"This is second assignment.\""
   ]
  },
  {
   "cell_type": "code",
   "execution_count": 10,
   "id": "02644cae-c948-4731-92e4-ac3c2e6021eb",
   "metadata": {},
   "outputs": [],
   "source": [
    "class asg3(asg2):\n",
    "    pass"
   ]
  },
  {
   "cell_type": "code",
   "execution_count": 11,
   "id": "d3998f74-0570-4bd2-a8dd-3ea3fbfaf787",
   "metadata": {},
   "outputs": [],
   "source": [
    "child_obj_asg = asg3()"
   ]
  },
  {
   "cell_type": "code",
   "execution_count": 12,
   "id": "e4d88f7c-175d-476a-bb49-bdfa3c0bb8b0",
   "metadata": {},
   "outputs": [
    {
     "data": {
      "text/plain": [
       "'This is first assignment.'"
      ]
     },
     "execution_count": 12,
     "metadata": {},
     "output_type": "execute_result"
    }
   ],
   "source": [
    "child_obj_asg.meth1()"
   ]
  },
  {
   "cell_type": "code",
   "execution_count": 13,
   "id": "ca5ffe21-6a0e-45d7-a8e2-34d05524b691",
   "metadata": {},
   "outputs": [
    {
     "data": {
      "text/plain": [
       "'This is second assignment.'"
      ]
     },
     "execution_count": 13,
     "metadata": {},
     "output_type": "execute_result"
    }
   ],
   "source": [
    "child_obj_asg.meth2()"
   ]
  },
  {
   "cell_type": "code",
   "execution_count": 14,
   "id": "4a001e5f-06a6-4a0d-8d97-c2032951eb22",
   "metadata": {},
   "outputs": [],
   "source": [
    "#Example 3: Multiple inheritance\n",
    "class asg1:\n",
    "    \n",
    "    def meth1(self):\n",
    "        return \"This is first assignment.\""
   ]
  },
  {
   "cell_type": "code",
   "execution_count": 15,
   "id": "ce3d3360-8815-4b52-bfb1-8c25f6ed6414",
   "metadata": {},
   "outputs": [],
   "source": [
    "class asg2:\n",
    "    \n",
    "    def meth2(self):\n",
    "        return \"This is second assignment.\""
   ]
  },
  {
   "cell_type": "code",
   "execution_count": 16,
   "id": "9aa95772-68b6-48ea-a5de-674a223ed91f",
   "metadata": {},
   "outputs": [],
   "source": [
    "class asg3(asg1,asg2):\n",
    "    pass"
   ]
  },
  {
   "cell_type": "code",
   "execution_count": 17,
   "id": "e545d08e-fd4d-4f00-ba61-524d5b88c6b1",
   "metadata": {},
   "outputs": [],
   "source": [
    "child_obj_asg = asg3()"
   ]
  },
  {
   "cell_type": "code",
   "execution_count": 18,
   "id": "599cf4cf-1942-4c9c-b92c-32be07b03224",
   "metadata": {},
   "outputs": [
    {
     "data": {
      "text/plain": [
       "'This is first assignment.'"
      ]
     },
     "execution_count": 18,
     "metadata": {},
     "output_type": "execute_result"
    }
   ],
   "source": [
    "child_obj_asg.meth1()"
   ]
  },
  {
   "cell_type": "code",
   "execution_count": 19,
   "id": "d562289d-505c-4241-b0de-f2691d5871b0",
   "metadata": {},
   "outputs": [
    {
     "data": {
      "text/plain": [
       "'This is second assignment.'"
      ]
     },
     "execution_count": 19,
     "metadata": {},
     "output_type": "execute_result"
    }
   ],
   "source": [
    "child_obj_asg.meth2()"
   ]
  },
  {
   "cell_type": "code",
   "execution_count": null,
   "id": "007c6ad9-6eb9-4050-a87b-d11412887f70",
   "metadata": {},
   "outputs": [],
   "source": []
  }
 ],
 "metadata": {
  "kernelspec": {
   "display_name": "Python 3 (ipykernel)",
   "language": "python",
   "name": "python3"
  },
  "language_info": {
   "codemirror_mode": {
    "name": "ipython",
    "version": 3
   },
   "file_extension": ".py",
   "mimetype": "text/x-python",
   "name": "python",
   "nbconvert_exporter": "python",
   "pygments_lexer": "ipython3",
   "version": "3.10.8"
  }
 },
 "nbformat": 4,
 "nbformat_minor": 5
}
